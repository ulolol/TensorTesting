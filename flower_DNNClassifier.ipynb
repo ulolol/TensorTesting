{
  "nbformat": 4,
  "nbformat_minor": 0,
  "metadata": {
    "colab": {
      "name": "flower DNNClassifier.ipynb",
      "provenance": [],
      "authorship_tag": "ABX9TyOKq30cEonMHgSB3tIWP3iF",
      "include_colab_link": true
    },
    "kernelspec": {
      "name": "python3",
      "display_name": "Python 3"
    },
    "language_info": {
      "name": "python"
    }
  },
  "cells": [
    {
      "cell_type": "markdown",
      "metadata": {
        "id": "view-in-github",
        "colab_type": "text"
      },
      "source": [
        "<a href=\"https://colab.research.google.com/github/ulolol/TensorTesting/blob/main/flower_DNNClassifier.ipynb\" target=\"_parent\"><img src=\"https://colab.research.google.com/assets/colab-badge.svg\" alt=\"Open In Colab\"/></a>"
      ]
    },
    {
      "cell_type": "code",
      "metadata": {
        "id": "hyQM__U5mpfr"
      },
      "source": [
        "%tensorflow_version 2.x\n",
        "from __future__ import absolute_import, division, print_function, unicode_literals\n",
        "\n",
        "import tensorflow as tf\n",
        "\n",
        "import pandas as pd \n"
      ],
      "execution_count": 3,
      "outputs": []
    },
    {
      "cell_type": "code",
      "metadata": {
        "id": "LDVIgV78IM_b"
      },
      "source": [
        "col_names = ['SepalLength', 'SepalWidth', 'PetalLength', 'PetalWidth', 'Species']\n",
        "species = ['Setosa', 'Versicolor','Virginica']"
      ],
      "execution_count": 4,
      "outputs": []
    },
    {
      "cell_type": "code",
      "metadata": {
        "id": "WluCRvQPIyJK"
      },
      "source": [
        "# load datasets \n",
        "trainset = tf.keras.utils.get_file(\"iris_training.csv\", \"https://storage.googleapis.com/download.tensorflow.org/data/iris_training.csv\")\n",
        "testset = tf.keras.utils.get_file(\"iris_test.csv\", \"https://storage.googleapis.com/download.tensorflow.org/data/iris_test.csv\")\n",
        "\n",
        "train = pd.read_csv(trainset, names=col_names, header=0)\n",
        "test = pd.read_csv(testset, names=col_names, header=0)\n"
      ],
      "execution_count": 16,
      "outputs": []
    },
    {
      "cell_type": "code",
      "metadata": {
        "colab": {
          "base_uri": "https://localhost:8080/",
          "height": 206
        },
        "id": "21QGQYOzKtY-",
        "outputId": "be757176-4c23-41bf-8873-946b72dd5a58"
      },
      "source": [
        "train.head()"
      ],
      "execution_count": 8,
      "outputs": [
        {
          "output_type": "execute_result",
          "data": {
            "text/html": [
              "<div>\n",
              "<style scoped>\n",
              "    .dataframe tbody tr th:only-of-type {\n",
              "        vertical-align: middle;\n",
              "    }\n",
              "\n",
              "    .dataframe tbody tr th {\n",
              "        vertical-align: top;\n",
              "    }\n",
              "\n",
              "    .dataframe thead th {\n",
              "        text-align: right;\n",
              "    }\n",
              "</style>\n",
              "<table border=\"1\" class=\"dataframe\">\n",
              "  <thead>\n",
              "    <tr style=\"text-align: right;\">\n",
              "      <th></th>\n",
              "      <th>SepalLength</th>\n",
              "      <th>SepalWidth</th>\n",
              "      <th>PetalLength</th>\n",
              "      <th>PetalWidth</th>\n",
              "      <th>Species</th>\n",
              "    </tr>\n",
              "  </thead>\n",
              "  <tbody>\n",
              "    <tr>\n",
              "      <th>0</th>\n",
              "      <td>6.4</td>\n",
              "      <td>2.8</td>\n",
              "      <td>5.6</td>\n",
              "      <td>2.2</td>\n",
              "      <td>2</td>\n",
              "    </tr>\n",
              "    <tr>\n",
              "      <th>1</th>\n",
              "      <td>5.0</td>\n",
              "      <td>2.3</td>\n",
              "      <td>3.3</td>\n",
              "      <td>1.0</td>\n",
              "      <td>1</td>\n",
              "    </tr>\n",
              "    <tr>\n",
              "      <th>2</th>\n",
              "      <td>4.9</td>\n",
              "      <td>2.5</td>\n",
              "      <td>4.5</td>\n",
              "      <td>1.7</td>\n",
              "      <td>2</td>\n",
              "    </tr>\n",
              "    <tr>\n",
              "      <th>3</th>\n",
              "      <td>4.9</td>\n",
              "      <td>3.1</td>\n",
              "      <td>1.5</td>\n",
              "      <td>0.1</td>\n",
              "      <td>0</td>\n",
              "    </tr>\n",
              "    <tr>\n",
              "      <th>4</th>\n",
              "      <td>5.7</td>\n",
              "      <td>3.8</td>\n",
              "      <td>1.7</td>\n",
              "      <td>0.3</td>\n",
              "      <td>0</td>\n",
              "    </tr>\n",
              "  </tbody>\n",
              "</table>\n",
              "</div>"
            ],
            "text/plain": [
              "   SepalLength  SepalWidth  PetalLength  PetalWidth  Species\n",
              "0          6.4         2.8          5.6         2.2        2\n",
              "1          5.0         2.3          3.3         1.0        1\n",
              "2          4.9         2.5          4.5         1.7        2\n",
              "3          4.9         3.1          1.5         0.1        0\n",
              "4          5.7         3.8          1.7         0.3        0"
            ]
          },
          "metadata": {
            "tags": []
          },
          "execution_count": 8
        }
      ]
    },
    {
      "cell_type": "code",
      "metadata": {
        "colab": {
          "base_uri": "https://localhost:8080/"
        },
        "id": "Hwvijv4RLW0P",
        "outputId": "365a4b0f-a919-4571-f9d2-19042afb20b7"
      },
      "source": [
        "train.shape"
      ],
      "execution_count": 9,
      "outputs": [
        {
          "output_type": "execute_result",
          "data": {
            "text/plain": [
              "(120, 5)"
            ]
          },
          "metadata": {
            "tags": []
          },
          "execution_count": 9
        }
      ]
    },
    {
      "cell_type": "code",
      "metadata": {
        "id": "1rsbPxYZMJbz"
      },
      "source": [
        "train_y = train.pop('Species')\n",
        "test_y = test.pop('Species')"
      ],
      "execution_count": 17,
      "outputs": []
    },
    {
      "cell_type": "code",
      "metadata": {
        "colab": {
          "base_uri": "https://localhost:8080/"
        },
        "id": "JyT9RQ9RMwsT",
        "outputId": "e1735229-7a9b-4679-d216-fa984cb48704"
      },
      "source": [
        "train_y.head\n",
        "test_y.head"
      ],
      "execution_count": 18,
      "outputs": [
        {
          "output_type": "execute_result",
          "data": {
            "text/plain": [
              "<bound method NDFrame.head of 0     1\n",
              "1     2\n",
              "2     0\n",
              "3     1\n",
              "4     1\n",
              "5     1\n",
              "6     0\n",
              "7     2\n",
              "8     1\n",
              "9     2\n",
              "10    2\n",
              "11    0\n",
              "12    2\n",
              "13    1\n",
              "14    1\n",
              "15    0\n",
              "16    1\n",
              "17    0\n",
              "18    0\n",
              "19    2\n",
              "20    0\n",
              "21    1\n",
              "22    2\n",
              "23    1\n",
              "24    1\n",
              "25    1\n",
              "26    0\n",
              "27    1\n",
              "28    2\n",
              "29    1\n",
              "Name: Species, dtype: int64>"
            ]
          },
          "metadata": {
            "tags": []
          },
          "execution_count": 18
        }
      ]
    },
    {
      "cell_type": "code",
      "metadata": {
        "id": "-6yxtbg7NUXN"
      },
      "source": [
        "def input_fn(features, labels, training=True, batch_size = 256):\n",
        "  dataset = tf.data.Dataset.from_tensor_slices((dict(features),labels))\n",
        "\n",
        "  if training:\n",
        "    dataset = dataset.shuffle(1000).repeat()\n",
        "\n",
        "  return dataset.batch(batch_size)\n"
      ],
      "execution_count": 19,
      "outputs": []
    },
    {
      "cell_type": "code",
      "metadata": {
        "colab": {
          "base_uri": "https://localhost:8080/"
        },
        "id": "7a-fI6OYORai",
        "outputId": "596ed01d-fcb5-4eb3-fd82-833332a88a60"
      },
      "source": [
        "feat_col = []\n",
        "for key in train.keys():\n",
        "  feat_col.append(tf.feature_column.numeric_column(key=key))\n",
        "print(feat_col)\n"
      ],
      "execution_count": 22,
      "outputs": [
        {
          "output_type": "stream",
          "text": [
            "[NumericColumn(key='SepalLength', shape=(1,), default_value=None, dtype=tf.float32, normalizer_fn=None), NumericColumn(key='SepalWidth', shape=(1,), default_value=None, dtype=tf.float32, normalizer_fn=None), NumericColumn(key='PetalLength', shape=(1,), default_value=None, dtype=tf.float32, normalizer_fn=None), NumericColumn(key='PetalWidth', shape=(1,), default_value=None, dtype=tf.float32, normalizer_fn=None)]\n"
          ],
          "name": "stdout"
        }
      ]
    },
    {
      "cell_type": "code",
      "metadata": {
        "colab": {
          "base_uri": "https://localhost:8080/"
        },
        "id": "9txcSUVDPxsn",
        "outputId": "5f8f8e23-f970-4ac7-ec6d-843dfc02b669"
      },
      "source": [
        "#Build  MODEL\n",
        "classifier = tf.estimator.DNNClassifier(feature_columns=feat_col, hidden_units=[30,10,20], n_classes=3)\n"
      ],
      "execution_count": 33,
      "outputs": [
        {
          "output_type": "stream",
          "text": [
            "INFO:tensorflow:Using default config.\n",
            "WARNING:tensorflow:Using temporary folder as model directory: /tmp/tmp28tzq0yu\n",
            "INFO:tensorflow:Using config: {'_model_dir': '/tmp/tmp28tzq0yu', '_tf_random_seed': None, '_save_summary_steps': 100, '_save_checkpoints_steps': None, '_save_checkpoints_secs': 600, '_session_config': allow_soft_placement: true\n",
            "graph_options {\n",
            "  rewrite_options {\n",
            "    meta_optimizer_iterations: ONE\n",
            "  }\n",
            "}\n",
            ", '_keep_checkpoint_max': 5, '_keep_checkpoint_every_n_hours': 10000, '_log_step_count_steps': 100, '_train_distribute': None, '_device_fn': None, '_protocol': None, '_eval_distribute': None, '_experimental_distribute': None, '_experimental_max_worker_delay_secs': None, '_session_creation_timeout_secs': 7200, '_checkpoint_save_graph_def': True, '_service': None, '_cluster_spec': ClusterSpec({}), '_task_type': 'worker', '_task_id': 0, '_global_id_in_cluster': 0, '_master': '', '_evaluation_master': '', '_is_chief': True, '_num_ps_replicas': 0, '_num_worker_replicas': 1}\n"
          ],
          "name": "stdout"
        }
      ]
    },
    {
      "cell_type": "code",
      "metadata": {
        "colab": {
          "base_uri": "https://localhost:8080/"
        },
        "id": "WUs4AI9VQ7-G",
        "outputId": "a6526744-c391-4f13-c950-24b6e19fb7a5"
      },
      "source": [
        "#train classifier\n",
        "classifier.train(input_fn=lambda: input_fn(train, train_y,training=True),steps=10000)"
      ],
      "execution_count": 34,
      "outputs": [
        {
          "output_type": "stream",
          "text": [
            "INFO:tensorflow:Calling model_fn.\n",
            "INFO:tensorflow:Done calling model_fn.\n",
            "INFO:tensorflow:Create CheckpointSaverHook.\n",
            "INFO:tensorflow:Graph was finalized.\n",
            "INFO:tensorflow:Running local_init_op.\n",
            "INFO:tensorflow:Done running local_init_op.\n",
            "INFO:tensorflow:Calling checkpoint listeners before saving checkpoint 0...\n",
            "INFO:tensorflow:Saving checkpoints for 0 into /tmp/tmp28tzq0yu/model.ckpt.\n",
            "INFO:tensorflow:Calling checkpoint listeners after saving checkpoint 0...\n",
            "INFO:tensorflow:loss = 1.1908729, step = 0\n",
            "INFO:tensorflow:global_step/sec: 432.084\n",
            "INFO:tensorflow:loss = 1.0265809, step = 100 (0.234 sec)\n",
            "INFO:tensorflow:global_step/sec: 566.785\n",
            "INFO:tensorflow:loss = 0.9546718, step = 200 (0.177 sec)\n",
            "INFO:tensorflow:global_step/sec: 598.947\n",
            "INFO:tensorflow:loss = 0.90734786, step = 300 (0.172 sec)\n",
            "INFO:tensorflow:global_step/sec: 564.226\n",
            "INFO:tensorflow:loss = 0.86456347, step = 400 (0.175 sec)\n",
            "INFO:tensorflow:global_step/sec: 573.122\n",
            "INFO:tensorflow:loss = 0.82347465, step = 500 (0.175 sec)\n",
            "INFO:tensorflow:global_step/sec: 574.705\n",
            "INFO:tensorflow:loss = 0.7939054, step = 600 (0.172 sec)\n",
            "INFO:tensorflow:global_step/sec: 581.003\n",
            "INFO:tensorflow:loss = 0.7656455, step = 700 (0.172 sec)\n",
            "INFO:tensorflow:global_step/sec: 535.016\n",
            "INFO:tensorflow:loss = 0.7349806, step = 800 (0.189 sec)\n",
            "INFO:tensorflow:global_step/sec: 575.152\n",
            "INFO:tensorflow:loss = 0.70684433, step = 900 (0.172 sec)\n",
            "INFO:tensorflow:global_step/sec: 570.404\n",
            "INFO:tensorflow:loss = 0.6770544, step = 1000 (0.178 sec)\n",
            "INFO:tensorflow:global_step/sec: 580.722\n",
            "INFO:tensorflow:loss = 0.6427233, step = 1100 (0.182 sec)\n",
            "INFO:tensorflow:global_step/sec: 541.46\n",
            "INFO:tensorflow:loss = 0.62781435, step = 1200 (0.172 sec)\n",
            "INFO:tensorflow:global_step/sec: 579.627\n",
            "INFO:tensorflow:loss = 0.60840154, step = 1300 (0.173 sec)\n",
            "INFO:tensorflow:global_step/sec: 550.611\n",
            "INFO:tensorflow:loss = 0.58879197, step = 1400 (0.184 sec)\n",
            "INFO:tensorflow:global_step/sec: 554.379\n",
            "INFO:tensorflow:loss = 0.56707346, step = 1500 (0.179 sec)\n",
            "INFO:tensorflow:global_step/sec: 598.612\n",
            "INFO:tensorflow:loss = 0.5439847, step = 1600 (0.170 sec)\n",
            "INFO:tensorflow:global_step/sec: 553.592\n",
            "INFO:tensorflow:loss = 0.5124717, step = 1700 (0.178 sec)\n",
            "INFO:tensorflow:global_step/sec: 591.951\n",
            "INFO:tensorflow:loss = 0.49436605, step = 1800 (0.171 sec)\n",
            "INFO:tensorflow:global_step/sec: 591.465\n",
            "INFO:tensorflow:loss = 0.47656614, step = 1900 (0.170 sec)\n",
            "INFO:tensorflow:global_step/sec: 591.183\n",
            "INFO:tensorflow:loss = 0.46456808, step = 2000 (0.169 sec)\n",
            "INFO:tensorflow:global_step/sec: 550.512\n",
            "INFO:tensorflow:loss = 0.44685555, step = 2100 (0.180 sec)\n",
            "INFO:tensorflow:global_step/sec: 577.465\n",
            "INFO:tensorflow:loss = 0.44192213, step = 2200 (0.173 sec)\n",
            "INFO:tensorflow:global_step/sec: 599.711\n",
            "INFO:tensorflow:loss = 0.42611918, step = 2300 (0.168 sec)\n",
            "INFO:tensorflow:global_step/sec: 560.319\n",
            "INFO:tensorflow:loss = 0.41988218, step = 2400 (0.177 sec)\n",
            "INFO:tensorflow:global_step/sec: 603.056\n",
            "INFO:tensorflow:loss = 0.4041027, step = 2500 (0.167 sec)\n",
            "INFO:tensorflow:global_step/sec: 586.786\n",
            "INFO:tensorflow:loss = 0.3942644, step = 2600 (0.171 sec)\n",
            "INFO:tensorflow:global_step/sec: 523.608\n",
            "INFO:tensorflow:loss = 0.38998342, step = 2700 (0.188 sec)\n",
            "INFO:tensorflow:global_step/sec: 570.953\n",
            "INFO:tensorflow:loss = 0.3876314, step = 2800 (0.175 sec)\n",
            "INFO:tensorflow:global_step/sec: 580.156\n",
            "INFO:tensorflow:loss = 0.36483303, step = 2900 (0.175 sec)\n",
            "INFO:tensorflow:global_step/sec: 528.15\n",
            "INFO:tensorflow:loss = 0.35987088, step = 3000 (0.188 sec)\n",
            "INFO:tensorflow:global_step/sec: 576.047\n",
            "INFO:tensorflow:loss = 0.3626649, step = 3100 (0.173 sec)\n",
            "INFO:tensorflow:global_step/sec: 544.008\n",
            "INFO:tensorflow:loss = 0.3618219, step = 3200 (0.182 sec)\n",
            "INFO:tensorflow:global_step/sec: 569.334\n",
            "INFO:tensorflow:loss = 0.3505752, step = 3300 (0.176 sec)\n",
            "INFO:tensorflow:global_step/sec: 581.996\n",
            "INFO:tensorflow:loss = 0.33603507, step = 3400 (0.172 sec)\n",
            "INFO:tensorflow:global_step/sec: 580.995\n",
            "INFO:tensorflow:loss = 0.3355015, step = 3500 (0.174 sec)\n",
            "INFO:tensorflow:global_step/sec: 579.501\n",
            "INFO:tensorflow:loss = 0.32346845, step = 3600 (0.172 sec)\n",
            "INFO:tensorflow:global_step/sec: 597.163\n",
            "INFO:tensorflow:loss = 0.31350583, step = 3700 (0.166 sec)\n",
            "INFO:tensorflow:global_step/sec: 533.159\n",
            "INFO:tensorflow:loss = 0.30863112, step = 3800 (0.188 sec)\n",
            "INFO:tensorflow:global_step/sec: 595.328\n",
            "INFO:tensorflow:loss = 0.30503806, step = 3900 (0.170 sec)\n",
            "INFO:tensorflow:global_step/sec: 572.307\n",
            "INFO:tensorflow:loss = 0.29827994, step = 4000 (0.171 sec)\n",
            "INFO:tensorflow:global_step/sec: 568.177\n",
            "INFO:tensorflow:loss = 0.27995124, step = 4100 (0.178 sec)\n",
            "INFO:tensorflow:global_step/sec: 572.669\n",
            "INFO:tensorflow:loss = 0.28416896, step = 4200 (0.174 sec)\n",
            "INFO:tensorflow:global_step/sec: 564.826\n",
            "INFO:tensorflow:loss = 0.27854645, step = 4300 (0.176 sec)\n",
            "INFO:tensorflow:global_step/sec: 550.718\n",
            "INFO:tensorflow:loss = 0.26721275, step = 4400 (0.181 sec)\n",
            "INFO:tensorflow:global_step/sec: 571.124\n",
            "INFO:tensorflow:loss = 0.2667897, step = 4500 (0.174 sec)\n",
            "INFO:tensorflow:global_step/sec: 577.433\n",
            "INFO:tensorflow:loss = 0.25985003, step = 4600 (0.175 sec)\n",
            "INFO:tensorflow:global_step/sec: 560.372\n",
            "INFO:tensorflow:loss = 0.2576279, step = 4700 (0.179 sec)\n",
            "INFO:tensorflow:global_step/sec: 584.228\n",
            "INFO:tensorflow:loss = 0.25791493, step = 4800 (0.169 sec)\n",
            "INFO:tensorflow:global_step/sec: 578.759\n",
            "INFO:tensorflow:loss = 0.24223642, step = 4900 (0.174 sec)\n",
            "INFO:tensorflow:global_step/sec: 546.882\n",
            "INFO:tensorflow:loss = 0.24518277, step = 5000 (0.182 sec)\n",
            "INFO:tensorflow:global_step/sec: 584.56\n",
            "INFO:tensorflow:loss = 0.24599844, step = 5100 (0.172 sec)\n",
            "INFO:tensorflow:global_step/sec: 474.785\n",
            "INFO:tensorflow:loss = 0.24634099, step = 5200 (0.212 sec)\n",
            "INFO:tensorflow:global_step/sec: 566.857\n",
            "INFO:tensorflow:loss = 0.24492708, step = 5300 (0.174 sec)\n",
            "WARNING:tensorflow:It seems that global step (tf.train.get_global_step) has not been increased. Current value (could be stable): 5301 vs previous value: 5301. You could increase the global step by passing tf.train.get_global_step() to Optimizer.apply_gradients or Optimizer.minimize.\n",
            "INFO:tensorflow:global_step/sec: 529.435\n",
            "INFO:tensorflow:loss = 0.23698658, step = 5400 (0.189 sec)\n",
            "INFO:tensorflow:global_step/sec: 519.184\n",
            "INFO:tensorflow:loss = 0.24018052, step = 5500 (0.193 sec)\n",
            "INFO:tensorflow:global_step/sec: 596.118\n",
            "INFO:tensorflow:loss = 0.2325775, step = 5600 (0.170 sec)\n",
            "INFO:tensorflow:global_step/sec: 609.723\n",
            "INFO:tensorflow:loss = 0.22166562, step = 5700 (0.163 sec)\n",
            "INFO:tensorflow:global_step/sec: 572.354\n",
            "INFO:tensorflow:loss = 0.22526503, step = 5800 (0.176 sec)\n",
            "INFO:tensorflow:global_step/sec: 553.834\n",
            "INFO:tensorflow:loss = 0.21273026, step = 5900 (0.179 sec)\n",
            "INFO:tensorflow:global_step/sec: 574.39\n",
            "INFO:tensorflow:loss = 0.21329576, step = 6000 (0.177 sec)\n",
            "INFO:tensorflow:global_step/sec: 566.337\n",
            "INFO:tensorflow:loss = 0.20596689, step = 6100 (0.176 sec)\n",
            "INFO:tensorflow:global_step/sec: 572.808\n",
            "INFO:tensorflow:loss = 0.20227522, step = 6200 (0.175 sec)\n",
            "INFO:tensorflow:global_step/sec: 591.208\n",
            "INFO:tensorflow:loss = 0.20013, step = 6300 (0.168 sec)\n",
            "INFO:tensorflow:global_step/sec: 522.644\n",
            "INFO:tensorflow:loss = 0.19667411, step = 6400 (0.191 sec)\n",
            "INFO:tensorflow:global_step/sec: 568.54\n",
            "INFO:tensorflow:loss = 0.19373327, step = 6500 (0.178 sec)\n",
            "INFO:tensorflow:global_step/sec: 573.914\n",
            "INFO:tensorflow:loss = 0.19593342, step = 6600 (0.171 sec)\n",
            "INFO:tensorflow:global_step/sec: 567.639\n",
            "INFO:tensorflow:loss = 0.19454566, step = 6700 (0.177 sec)\n",
            "INFO:tensorflow:global_step/sec: 585.658\n",
            "INFO:tensorflow:loss = 0.18916483, step = 6800 (0.172 sec)\n",
            "INFO:tensorflow:global_step/sec: 576.133\n",
            "INFO:tensorflow:loss = 0.19424638, step = 6900 (0.174 sec)\n",
            "INFO:tensorflow:global_step/sec: 554.07\n",
            "INFO:tensorflow:loss = 0.18205446, step = 7000 (0.178 sec)\n",
            "INFO:tensorflow:global_step/sec: 588.319\n",
            "INFO:tensorflow:loss = 0.17732723, step = 7100 (0.174 sec)\n",
            "INFO:tensorflow:global_step/sec: 589.7\n",
            "INFO:tensorflow:loss = 0.17835423, step = 7200 (0.167 sec)\n",
            "INFO:tensorflow:global_step/sec: 557.449\n",
            "INFO:tensorflow:loss = 0.17480034, step = 7300 (0.180 sec)\n",
            "INFO:tensorflow:global_step/sec: 564.707\n",
            "INFO:tensorflow:loss = 0.16768995, step = 7400 (0.178 sec)\n",
            "INFO:tensorflow:global_step/sec: 570.867\n",
            "INFO:tensorflow:loss = 0.17108166, step = 7500 (0.176 sec)\n",
            "INFO:tensorflow:global_step/sec: 564.092\n",
            "INFO:tensorflow:loss = 0.18291336, step = 7600 (0.174 sec)\n",
            "INFO:tensorflow:global_step/sec: 564.914\n",
            "INFO:tensorflow:loss = 0.16863987, step = 7700 (0.177 sec)\n",
            "INFO:tensorflow:global_step/sec: 519.427\n",
            "INFO:tensorflow:loss = 0.16592872, step = 7800 (0.196 sec)\n",
            "INFO:tensorflow:global_step/sec: 576.35\n",
            "INFO:tensorflow:loss = 0.16673079, step = 7900 (0.174 sec)\n",
            "INFO:tensorflow:global_step/sec: 554.175\n",
            "INFO:tensorflow:loss = 0.16111885, step = 8000 (0.178 sec)\n",
            "INFO:tensorflow:global_step/sec: 601.303\n",
            "INFO:tensorflow:loss = 0.15621874, step = 8100 (0.167 sec)\n",
            "INFO:tensorflow:global_step/sec: 600.04\n",
            "INFO:tensorflow:loss = 0.16639379, step = 8200 (0.167 sec)\n",
            "INFO:tensorflow:global_step/sec: 545.625\n",
            "INFO:tensorflow:loss = 0.15520586, step = 8300 (0.182 sec)\n",
            "INFO:tensorflow:global_step/sec: 575.405\n",
            "INFO:tensorflow:loss = 0.1536561, step = 8400 (0.174 sec)\n",
            "INFO:tensorflow:global_step/sec: 596.561\n",
            "INFO:tensorflow:loss = 0.16014211, step = 8500 (0.170 sec)\n",
            "INFO:tensorflow:global_step/sec: 587.233\n",
            "INFO:tensorflow:loss = 0.1476081, step = 8600 (0.170 sec)\n",
            "INFO:tensorflow:global_step/sec: 578.382\n",
            "INFO:tensorflow:loss = 0.1479874, step = 8700 (0.170 sec)\n",
            "INFO:tensorflow:global_step/sec: 580.046\n",
            "INFO:tensorflow:loss = 0.14542736, step = 8800 (0.173 sec)\n",
            "INFO:tensorflow:global_step/sec: 588.018\n",
            "INFO:tensorflow:loss = 0.14352809, step = 8900 (0.174 sec)\n",
            "INFO:tensorflow:global_step/sec: 553.277\n",
            "INFO:tensorflow:loss = 0.14249508, step = 9000 (0.179 sec)\n",
            "INFO:tensorflow:global_step/sec: 592.34\n",
            "INFO:tensorflow:loss = 0.14206967, step = 9100 (0.169 sec)\n",
            "INFO:tensorflow:global_step/sec: 561.504\n",
            "INFO:tensorflow:loss = 0.15345666, step = 9200 (0.178 sec)\n",
            "INFO:tensorflow:global_step/sec: 600.568\n",
            "INFO:tensorflow:loss = 0.14142305, step = 9300 (0.166 sec)\n",
            "INFO:tensorflow:global_step/sec: 537.18\n",
            "INFO:tensorflow:loss = 0.13616683, step = 9400 (0.185 sec)\n",
            "INFO:tensorflow:global_step/sec: 562.193\n",
            "INFO:tensorflow:loss = 0.1289605, step = 9500 (0.177 sec)\n",
            "INFO:tensorflow:global_step/sec: 552.66\n",
            "INFO:tensorflow:loss = 0.13309893, step = 9600 (0.181 sec)\n",
            "INFO:tensorflow:global_step/sec: 585.231\n",
            "INFO:tensorflow:loss = 0.135075, step = 9700 (0.174 sec)\n",
            "INFO:tensorflow:global_step/sec: 578.218\n",
            "INFO:tensorflow:loss = 0.13552764, step = 9800 (0.173 sec)\n",
            "INFO:tensorflow:global_step/sec: 573.669\n",
            "INFO:tensorflow:loss = 0.13753068, step = 9900 (0.172 sec)\n",
            "INFO:tensorflow:Calling checkpoint listeners before saving checkpoint 10000...\n",
            "INFO:tensorflow:Saving checkpoints for 10000 into /tmp/tmp28tzq0yu/model.ckpt.\n",
            "INFO:tensorflow:Calling checkpoint listeners after saving checkpoint 10000...\n",
            "INFO:tensorflow:Loss for final step: 0.12797514.\n"
          ],
          "name": "stdout"
        },
        {
          "output_type": "execute_result",
          "data": {
            "text/plain": [
              "<tensorflow_estimator.python.estimator.canned.dnn.DNNClassifierV2 at 0x7fe1fb265d90>"
            ]
          },
          "metadata": {
            "tags": []
          },
          "execution_count": 34
        }
      ]
    },
    {
      "cell_type": "code",
      "metadata": {
        "colab": {
          "base_uri": "https://localhost:8080/"
        },
        "id": "sM3L11pcSjke",
        "outputId": "a60af901-6fcb-44e8-d496-344ffa51e262"
      },
      "source": [
        "#classifier eval\n",
        "classifier.evaluate(input_fn=lambda:input_fn(test,test_y,training=False))"
      ],
      "execution_count": 36,
      "outputs": [
        {
          "output_type": "stream",
          "text": [
            "INFO:tensorflow:Calling model_fn.\n",
            "INFO:tensorflow:Done calling model_fn.\n",
            "INFO:tensorflow:Starting evaluation at 2021-03-31T03:25:02Z\n",
            "INFO:tensorflow:Graph was finalized.\n",
            "INFO:tensorflow:Restoring parameters from /tmp/tmp28tzq0yu/model.ckpt-10000\n",
            "INFO:tensorflow:Running local_init_op.\n",
            "INFO:tensorflow:Done running local_init_op.\n",
            "INFO:tensorflow:Inference Time : 0.22846s\n",
            "INFO:tensorflow:Finished evaluation at 2021-03-31-03:25:02\n",
            "INFO:tensorflow:Saving dict for global step 10000: accuracy = 0.96666664, average_loss = 0.14339828, global_step = 10000, loss = 0.14339828\n",
            "INFO:tensorflow:Saving 'checkpoint_path' summary for global step 10000: /tmp/tmp28tzq0yu/model.ckpt-10000\n"
          ],
          "name": "stdout"
        },
        {
          "output_type": "execute_result",
          "data": {
            "text/plain": [
              "{'accuracy': 0.96666664,\n",
              " 'average_loss': 0.14339828,\n",
              " 'global_step': 10000,\n",
              " 'loss': 0.14339828}"
            ]
          },
          "metadata": {
            "tags": []
          },
          "execution_count": 36
        }
      ]
    }
  ]
}