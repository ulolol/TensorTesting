{
  "nbformat": 4,
  "nbformat_minor": 0,
  "metadata": {
    "colab": {
      "name": "NooBoT.ipynb",
      "provenance": [],
      "collapsed_sections": [],
      "authorship_tag": "ABX9TyPb1y1coL8kO/u4QSsqrquF",
      "include_colab_link": true
    },
    "kernelspec": {
      "name": "python3",
      "display_name": "Python 3"
    },
    "language_info": {
      "name": "python"
    }
  },
  "cells": [
    {
      "cell_type": "markdown",
      "metadata": {
        "id": "view-in-github",
        "colab_type": "text"
      },
      "source": [
        "<a href=\"https://colab.research.google.com/github/ulolol/TensorTesting/blob/main/NooBoT.ipynb\" target=\"_parent\"><img src=\"https://colab.research.google.com/assets/colab-badge.svg\" alt=\"Open In Colab\"/></a>"
      ]
    },
    {
      "cell_type": "code",
      "metadata": {
        "id": "3jpWJLbxZ1SC"
      },
      "source": [
        "!pip install chatterbot\n",
        " \n",
        "!pip install chatterbot_corpus"
      ],
      "execution_count": null,
      "outputs": []
    },
    {
      "cell_type": "code",
      "metadata": {
        "id": "eFulu19QabRk"
      },
      "source": [
        "# Importing chatterbot\n",
        "from chatterbot import ChatBot\n",
        "# Create object of ChatBot class\n",
        "bot = ChatBot('NooBoT')\n",
        "# Create object of ChatBot class with Storage Adapter\n",
        "bot = ChatBot(\n",
        "    'NooBoT',\n",
        "    storage_adapter='chatterbot.storage.SQLStorageAdapter',\n",
        "    database_uri='sqlite:///database.sqlite3'\n",
        ")\n",
        "# Create object of ChatBot class with Logic Adapter\n",
        "bot = ChatBot(\n",
        "    'NooBoT',  \n",
        "    logic_adapters=[\n",
        "        'chatterbot.logic.BestMatch',\n",
        "        'chatterbot.logic.MathematicalEvaluation'],\n",
        ")"
      ],
      "execution_count": null,
      "outputs": []
    },
    {
      "cell_type": "code",
      "metadata": {
        "id": "NXo0rxqaapLl"
      },
      "source": [
        "#Testing with Phrases\n",
        "# Import ListTrainer\n",
        "import logging\n",
        " \n",
        "from chatterbot.trainers import ListTrainer\n",
        " \n",
        "from chatterbot.trainers import ChatterBotCorpusTrainer\n",
        " \n",
        "from chatterbot.trainers import UbuntuCorpusTrainer\n",
        " \n",
        "logging.basicConfig(level=logging.INFO)\n",
        " \n",
        "trainer = ChatterBotCorpusTrainer(bot)\n",
        " \n",
        "trainer = UbuntuCorpusTrainer(bot)\n",
        " \n",
        "trainer.train()\n",
        " \n",
        "trainer.train(\"chatterbot.corpus.english\")\n",
        " \n",
        "trainer = ListTrainer(bot)\n",
        " \n",
        "trainer.train([\n",
        "'Hi',\n",
        "'Hello',\n",
        "'hey there',\n",
        "'hey!',\n",
        "'yo',\n",
        "'Yo!',\n",
        "'How are you?',\n",
        "'Im great!',\n",
        "'Whats your name?',\n",
        "'The name\\'s Bot, NooBoT, Coz im a Noooob and im a Bot',\n",
        "'You suck',\n",
        "'Not as much as you, coz you suck, and you swallow',\n",
        "'you\\'re great!',\n",
        "'Thx!',\n",
        "'How old are you?',\n",
        "'Bots dont have an Age, you Dumbass!', \n",
        "'Can you help me?',\n",
        "'Nope. No one can help a retard like you. You\\'re a lost cause ',\n",
        "'What can you do?',\n",
        "'A lot more stuff than you !',\n",
        "'Tell me more',\n",
        "'Im a chatbot, a noob chatbot :\\'(',\n",
        "'Bye',\n",
        "'See ya!',\n",
        "'--info',\n",
        "'NooBoT v0.001-alpha // Fri-02-04-21 // build.Local '\n",
        "])"
      ],
      "execution_count": null,
      "outputs": []
    },
    {
      "cell_type": "code",
      "metadata": {
        "id": "fp9t0z3FbMS5"
      },
      "source": [
        "#Input Loop\n",
        "name=input(\"Enter Your Name: \")\n",
        "print(\"Welcome \"+name +\" ! Im a basic bot so dont expect a lot from me. Ok? thx byee! I mean you can enter whatever you want now .......\")\n",
        "while True:\n",
        "    request=input(name+':')\n",
        "    if request=='Bye' or request =='bye':\n",
        "        print('Bot: Bye, See ya!')\n",
        "        break\n",
        "    else:\n",
        "        response=bot.get_response(request)\n",
        "        print('Bot:',response)"
      ],
      "execution_count": null,
      "outputs": []
    }
  ]
}