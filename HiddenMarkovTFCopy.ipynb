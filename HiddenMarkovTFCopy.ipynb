{
  "nbformat": 4,
  "nbformat_minor": 0,
  "metadata": {
    "colab": {
      "name": "HiddenMarkovTFCopy.ipynb",
      "provenance": [],
      "authorship_tag": "ABX9TyOQYBigjKpVyGPah3ht5CQr",
      "include_colab_link": true
    },
    "kernelspec": {
      "name": "python3",
      "display_name": "Python 3"
    },
    "language_info": {
      "name": "python"
    }
  },
  "cells": [
    {
      "cell_type": "markdown",
      "metadata": {
        "id": "view-in-github",
        "colab_type": "text"
      },
      "source": [
        "<a href=\"https://colab.research.google.com/github/ulolol/TensorTesting/blob/main/HiddenMarkovTFCopy.ipynb\" target=\"_parent\"><img src=\"https://colab.research.google.com/assets/colab-badge.svg\" alt=\"Open In Colab\"/></a>"
      ]
    },
    {
      "cell_type": "code",
      "metadata": {
        "id": "u-lvpWHpHkUH"
      },
      "source": [
        "%tensorflow_version 2.x"
      ],
      "execution_count": 1,
      "outputs": []
    },
    {
      "cell_type": "code",
      "metadata": {
        "id": "xc9zoCIURKEQ"
      },
      "source": [
        "import tensorflow_probability as tfp\n",
        "import tensorflow as tf\n"
      ],
      "execution_count": 6,
      "outputs": []
    },
    {
      "cell_type": "code",
      "metadata": {
        "id": "J8zmBm97R1mi"
      },
      "source": [
        "tfd = tfp.distributions\n",
        "ini_dist = tfd.Categorical(probs =[0.8,0.2])\n",
        "tran_dist = tfd.Categorical(probs = [[0.5,0.5], [0.2,0.8]])\n",
        "obs_dist = tfd.Normal(loc= [0., 15.], scale=[5.,10.])"
      ],
      "execution_count": 13,
      "outputs": []
    },
    {
      "cell_type": "code",
      "metadata": {
        "colab": {
          "base_uri": "https://localhost:8080/"
        },
        "id": "V8xt0L1cTn2J",
        "outputId": "f8979313-e8cb-4f2f-bc41-7bd518f6f137"
      },
      "source": [
        "model = tfd.HiddenMarkovModel(initial_distribution=ini_dist,transition_distribution=tran_dist,observation_distribution=obs_dist,num_steps=7)\n",
        "mean = model.mean()\n",
        "with tf.compat.v1.Session() as sess:\n",
        "  print(mean.numpy())\n"
      ],
      "execution_count": 14,
      "outputs": [
        {
          "output_type": "stream",
          "text": [
            "[ 2.9999998  8.4       10.0199995 10.506     10.651799  10.69554\n",
            " 10.708661 ]\n"
          ],
          "name": "stdout"
        }
      ]
    }
  ]
}