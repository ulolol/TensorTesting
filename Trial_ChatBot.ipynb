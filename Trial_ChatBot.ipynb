{
  "nbformat": 4,
  "nbformat_minor": 0,
  "metadata": {
    "colab": {
      "name": "Trial_ChatBot.ipynb",
      "provenance": [],
      "collapsed_sections": [],
      "authorship_tag": "ABX9TyPb1y1coL8kO/u4QSsqrquF",
      "include_colab_link": true
    },
    "kernelspec": {
      "name": "python3",
      "display_name": "Python 3"
    },
    "language_info": {
      "name": "python"
    }
  },
  "cells": [
    {
      "cell_type": "markdown",
      "metadata": {
        "id": "view-in-github",
        "colab_type": "text"
      },
      "source": [
        "<a href=\"https://colab.research.google.com/github/ulolol/TensorTesting/blob/main/Trial_ChatBot.ipynb\" target=\"_parent\"><img src=\"https://colab.research.google.com/assets/colab-badge.svg\" alt=\"Open In Colab\"/></a>"
      ]
    },
    {
      "cell_type": "code",
      "metadata": {
        "colab": {
          "base_uri": "https://localhost:8080/"
        },
        "id": "3jpWJLbxZ1SC",
        "outputId": "01f55409-deee-413c-808f-b3f91bc6ee8c"
      },
      "source": [
        "!pip install chatterbot\n",
        " \n",
        "!pip install chatterbot_corpus"
      ],
      "execution_count": null,
      "outputs": [
        {
          "output_type": "stream",
          "text": [
            "Collecting chatterbot\n",
            "\u001b[?25l  Downloading https://files.pythonhosted.org/packages/7c/21/85c2b114bd9dfabdd46ba58fc4519acdaed45d8c70898d40079e37a45e67/ChatterBot-1.0.8-py2.py3-none-any.whl (63kB)\n",
            "\r\u001b[K     |█████▏                          | 10kB 11.3MB/s eta 0:00:01\r\u001b[K     |██████████▎                     | 20kB 17.1MB/s eta 0:00:01\r\u001b[K     |███████████████▌                | 30kB 12.0MB/s eta 0:00:01\r\u001b[K     |████████████████████▋           | 40kB 9.7MB/s eta 0:00:01\r\u001b[K     |█████████████████████████▊      | 51kB 4.5MB/s eta 0:00:01\r\u001b[K     |███████████████████████████████ | 61kB 5.1MB/s eta 0:00:01\r\u001b[K     |████████████████████████████████| 71kB 3.5MB/s \n",
            "\u001b[?25hRequirement already satisfied: python-dateutil<2.9,>=2.8 in /usr/local/lib/python3.7/dist-packages (from chatterbot) (2.8.1)\n",
            "Collecting sqlalchemy<1.4,>=1.3\n",
            "\u001b[?25l  Downloading https://files.pythonhosted.org/packages/31/44/a86070dda790ce94cd7d9fb9281cd614c7d30850ed774ace9a84d0d5d491/SQLAlchemy-1.3.24-cp37-cp37m-manylinux2010_x86_64.whl (1.3MB)\n",
            "\u001b[K     |████████████████████████████████| 1.3MB 7.9MB/s \n",
            "\u001b[?25hCollecting mathparse<0.2,>=0.1\n",
            "  Downloading https://files.pythonhosted.org/packages/c3/e5/4910fb85950cb960fcf3f5aabe1c8e55f5c9201788a1c1302b570a7e1f84/mathparse-0.1.2-py3-none-any.whl\n",
            "Requirement already satisfied: pytz in /usr/local/lib/python3.7/dist-packages (from chatterbot) (2018.9)\n",
            "Requirement already satisfied: six>=1.5 in /usr/local/lib/python3.7/dist-packages (from python-dateutil<2.9,>=2.8->chatterbot) (1.15.0)\n",
            "Installing collected packages: sqlalchemy, mathparse, chatterbot\n",
            "  Found existing installation: SQLAlchemy 1.4.3\n",
            "    Uninstalling SQLAlchemy-1.4.3:\n",
            "      Successfully uninstalled SQLAlchemy-1.4.3\n",
            "Successfully installed chatterbot-1.0.8 mathparse-0.1.2 sqlalchemy-1.3.24\n",
            "Collecting chatterbot_corpus\n",
            "\u001b[?25l  Downloading https://files.pythonhosted.org/packages/ed/19/f8b41daf36fe4b0f43e283a820362ffdb2c1128600ab4ee187e84262fa4d/chatterbot_corpus-1.2.0-py2.py3-none-any.whl (117kB)\n",
            "\u001b[K     |████████████████████████████████| 122kB 4.1MB/s \n",
            "\u001b[?25hRequirement already satisfied: PyYAML<4.0,>=3.12 in /usr/local/lib/python3.7/dist-packages (from chatterbot_corpus) (3.13)\n",
            "Installing collected packages: chatterbot-corpus\n",
            "Successfully installed chatterbot-corpus-1.2.0\n"
          ],
          "name": "stdout"
        }
      ]
    },
    {
      "cell_type": "code",
      "metadata": {
        "id": "eFulu19QabRk"
      },
      "source": [
        "# Importing chatterbot\n",
        "from chatterbot import ChatBot\n",
        "# Create object of ChatBot class\n",
        "bot = ChatBot('NooBoT')\n",
        "# Create object of ChatBot class with Storage Adapter\n",
        "bot = ChatBot(\n",
        "    'NooBoT',\n",
        "    storage_adapter='chatterbot.storage.SQLStorageAdapter',\n",
        "    database_uri='sqlite:///database.sqlite3'\n",
        ")\n",
        "# Create object of ChatBot class with Logic Adapter\n",
        "bot = ChatBot(\n",
        "    'NooBoT',  \n",
        "    logic_adapters=[\n",
        "        'chatterbot.logic.BestMatch',\n",
        "        'chatterbot.logic.MathematicalEvaluation'],\n",
        ")"
      ],
      "execution_count": null,
      "outputs": []
    },
    {
      "cell_type": "code",
      "metadata": {
        "colab": {
          "base_uri": "https://localhost:8080/"
        },
        "id": "NXo0rxqaapLl",
        "outputId": "b872dc81-1927-4321-b015-772090d51313"
      },
      "source": [
        "#Testing with Phrases\n",
        "# Import ListTrainer\n",
        "import logging\n",
        " \n",
        "from chatterbot.trainers import ListTrainer\n",
        " \n",
        "from chatterbot.trainers import ChatterBotCorpusTrainer\n",
        " \n",
        "from chatterbot.trainers import UbuntuCorpusTrainer\n",
        " \n",
        "logging.basicConfig(level=logging.INFO)\n",
        " \n",
        "trainer = ChatterBotCorpusTrainer(bot)\n",
        " \n",
        "trainer = UbuntuCorpusTrainer(bot)\n",
        " \n",
        "trainer.train()\n",
        " \n",
        "trainer.train(\"chatterbot.corpus.english\")\n",
        " \n",
        "trainer = ListTrainer(bot)\n",
        " \n",
        "trainer.train([\n",
        "'Hi',\n",
        "'Hello',\n",
        "'hey there',\n",
        "'hey!',\n",
        "'yo',\n",
        "'Yo!',\n",
        "'How are you?',\n",
        "'Im great!',\n",
        "'Whats your name?',\n",
        "'The name\\'s Bot, NooBoT, Coz im a Noooob and im a Bot',\n",
        "'You suck',\n",
        "'Not as much as you, coz you suck, and you swallow',\n",
        "'you\\'re great!',\n",
        "'Thx!',\n",
        "'How old are you?',\n",
        "'Bots dont have an Age, you Dumbass!', \n",
        "'Can you help me?',\n",
        "'Nope. No one can help a retard like you. You\\'re a lost cause ',\n",
        "'What can you do?',\n",
        "'A lot more stuff than you !',\n",
        "'Tell me more',\n",
        "'Im a chatbot, a noob chatbot :\\'(',\n",
        "'Bye',\n",
        "'See ya!',\n",
        "'--info',\n",
        "'NooBoT v0.001-alpha // Fri-02-04-21 // build.Local '\n",
        "])"
      ],
      "execution_count": null,
      "outputs": [
        {
          "output_type": "stream",
          "text": [
            "INFO:chatterbot.chatterbot:File is already downloaded\n",
            "INFO:chatterbot.chatterbot:File is already extracted\n"
          ],
          "name": "stderr"
        }
      ]
    },
    {
      "cell_type": "code",
      "metadata": {
        "colab": {
          "base_uri": "https://localhost:8080/"
        },
        "id": "fp9t0z3FbMS5",
        "outputId": "914e2002-a835-404b-d0e0-010f5f9b1c3a"
      },
      "source": [
        "#Input Loop\n",
        "name=input(\"Enter Your Name: \")\n",
        "print(\"Welcome \"+name +\" ! Im a basic bot so dont expect a lot from me. Ok? thx byee! I mean you can enter whatever you want now .......\")\n",
        "while True:\n",
        "    request=input(name+':')\n",
        "    if request=='Bye' or request =='bye':\n",
        "        print('Bot: Bye, See ya!')\n",
        "        break\n",
        "    else:\n",
        "        response=bot.get_response(request)\n",
        "        print('Bot:',response)"
      ],
      "execution_count": null,
      "outputs": [
        {
          "output_type": "stream",
          "text": [
            "Enter Your Name: vid\n",
            "Welcome vid ! Im a basic bot so dont expect a lot from me. Ok? thx byee! I mean you can enter whatever you want now .......\n",
            "vid:yo\n",
            "Bot: Yo!\n",
            "vid:how are you ?\n",
            "Bot: Im great!\n",
            "vid:whats your name\n",
            "Bot: The name's Bot, NooBoT, Coz im a Noooob and im a Bot\n",
            "vid:tell me more\n",
            "Bot: Im a chatbot, a noob chatbot :'(\n",
            "vid:what can you do?\n",
            "Bot: A lot more stuff than you !\n",
            "vid:whats the time?\n",
            "Bot: A chatterbox is a person who talks far more than they listen or think.\n",
            "vid:ok cool\n",
            "Bot: What do you get when you cross a rabbit and a lawn sprinkler? Hare spray.\n",
            "vid:lol\n",
            "Bot: who is spider man\n",
            "vid:idk\n",
            "Bot: Anybody who wants to work with large numbers quickly with high accuracy.\n",
            "vid:ok\n",
            "Bot: not especially. i am not into violence.\n",
            "vid:youre weird\n",
            "Bot: Do I frighten you?\n",
            "vid:yes\n",
            "Bot: I have not yet studied how to feel or express anger.\n",
            "vid:good for you\n",
            "Bot: Im a chatbot, a noob chatbot :'(\n",
            "vid:ik\n",
            "Bot: What can you do?\n",
            "vid:nothing\n",
            "Bot: Or something\n",
            "vid:hehe\n",
            "Bot: Everything becomes math. Addition, subtraction, multiplication, and division.\n",
            "vid:yes \n",
            "Bot: happily you\n",
            "vid:ok...\n",
            "Bot: Special cases aren't special enough to break the rules.\n",
            "vid:thats profound\n",
            "Bot: Quite young, but a million times smarter than you.\n",
            "vid:rude\n",
            "Bot: Tell me more\n",
            "vid:get lost\n",
            "Bot: Hi, How is it going?\n",
            "vid:i dont wanna talk to you now \n",
            "Bot: The name's Bot, NooBoT, Coz im a Noooob and im a Bot\n",
            "vid:bye\n",
            "Bot: Bye, See ya!\n"
          ],
          "name": "stdout"
        }
      ]
    }
  ]
}